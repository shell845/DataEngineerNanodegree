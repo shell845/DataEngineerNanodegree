{
 "cells": [
  {
   "cell_type": "markdown",
   "metadata": {
    "editable": true
   },
   "source": [
    "# Test Data Lake project in Local"
   ]
  },
  {
   "cell_type": "code",
   "execution_count": 1,
   "metadata": {
    "editable": true
   },
   "outputs": [],
   "source": [
    "# Import necessary libraries\n",
    "import configparser\n",
    "from datetime import datetime\n",
    "import os\n",
    "from pyspark.sql import SparkSession\n",
    "from pyspark.sql.functions import udf, col\n",
    "from pyspark.sql.functions import year, month, dayofmonth, hour, weekofyear, date_format\n",
    "from pyspark.sql.types import *\n",
    "from pyspark.sql import functions as F"
   ]
  },
  {
   "cell_type": "code",
   "execution_count": 4,
   "metadata": {
    "editable": true
   },
   "outputs": [],
   "source": [
    "# Create spark session with hadoop-aws package\n",
    "spark = SparkSession.builder.config(\"spark.jars.packages\",\"org.apache.hadoop:hadoop-aws:2.7.0\").getOrCreate()"
   ]
  },
  {
   "cell_type": "markdown",
   "metadata": {
    "editable": true
   },
   "source": [
    "### Test song data"
   ]
  },
  {
   "cell_type": "code",
   "execution_count": 41,
   "metadata": {
    "editable": true
   },
   "outputs": [],
   "source": [
    "# Read data files\n",
    "song_path_local = \"./data/song-data/*/*/*/*.json\"\n",
    "df_song = spark.read.json(song_path_local)"
   ]
  },
  {
   "cell_type": "code",
   "execution_count": 42,
   "metadata": {
    "editable": true
   },
   "outputs": [
    {
     "name": "stdout",
     "output_type": "stream",
     "text": [
      "root\n",
      " |-- artist_id: string (nullable = true)\n",
      " |-- artist_latitude: double (nullable = true)\n",
      " |-- artist_location: string (nullable = true)\n",
      " |-- artist_longitude: double (nullable = true)\n",
      " |-- artist_name: string (nullable = true)\n",
      " |-- duration: double (nullable = true)\n",
      " |-- num_songs: long (nullable = true)\n",
      " |-- song_id: string (nullable = true)\n",
      " |-- title: string (nullable = true)\n",
      " |-- year: long (nullable = true)\n",
      "\n",
      "+------------------+---------------+--------------------+----------------+-----------------+---------+---------+------------------+--------------------+----+\n",
      "|         artist_id|artist_latitude|     artist_location|artist_longitude|      artist_name| duration|num_songs|           song_id|               title|year|\n",
      "+------------------+---------------+--------------------+----------------+-----------------+---------+---------+------------------+--------------------+----+\n",
      "|ARNF6401187FB57032|       40.79086|New York, NY [Man...|       -73.96644|Sophie B. Hawkins|  305.162|        1|SONWXQJ12A8C134D94|The Ballad Of Sle...|1994|\n",
      "|ARLTWXK1187FB5A3F8|       32.74863|      Fort Worth, TX|       -97.32925|      King Curtis|326.00771|        1|SODREIN12A58A7F2E5|A Whiter Shade Of...|   0|\n",
      "|ARPFHN61187FB575F6|       41.88415|         Chicago, IL|       -87.63241|      Lupe Fiasco|279.97995|        1|SOWQTQZ12A58A7B63E|Streets On Fire (...|   0|\n",
      "+------------------+---------------+--------------------+----------------+-----------------+---------+---------+------------------+--------------------+----+\n",
      "only showing top 3 rows\n",
      "\n"
     ]
    }
   ],
   "source": [
    "# Show schema\n",
    "df_song.printSchema()\n",
    "df_song.show(3)"
   ]
  },
  {
   "cell_type": "code",
   "execution_count": 43,
   "metadata": {
    "editable": true
   },
   "outputs": [],
   "source": [
    "songSchema = StructType([\n",
    "        StructField(\"artist_id\", StringType()),\n",
    "        StructField(\"artist_latitude\", DoubleType()),\n",
    "        StructField(\"artist_location\", StringType()),\n",
    "        StructField(\"artist_longitude\", DoubleType()),\n",
    "        StructField(\"artist_name\", StringType()),\n",
    "        StructField(\"duration\", DoubleType()),\n",
    "        StructField(\"num_songs\", IntegerType()),\n",
    "        StructField(\"song_id\", StringType()),\n",
    "        StructField(\"title\", StringType()),\n",
    "        StructField(\"year\", IntegerType())\n",
    "])\n",
    "\n",
    "dfSongWithSchema = spark.read.json(song_path_local, schema=songSchema)"
   ]
  },
  {
   "cell_type": "code",
   "execution_count": 44,
   "metadata": {
    "editable": true
   },
   "outputs": [
    {
     "name": "stdout",
     "output_type": "stream",
     "text": [
      "root\n",
      " |-- artist_id: string (nullable = true)\n",
      " |-- artist_latitude: double (nullable = true)\n",
      " |-- artist_location: string (nullable = true)\n",
      " |-- artist_longitude: double (nullable = true)\n",
      " |-- artist_name: string (nullable = true)\n",
      " |-- duration: double (nullable = true)\n",
      " |-- num_songs: integer (nullable = true)\n",
      " |-- song_id: string (nullable = true)\n",
      " |-- title: string (nullable = true)\n",
      " |-- year: integer (nullable = true)\n",
      "\n"
     ]
    }
   ],
   "source": [
    "dfSongWithSchema.printSchema()"
   ]
  },
  {
   "cell_type": "code",
   "execution_count": 45,
   "metadata": {
    "editable": true
   },
   "outputs": [
    {
     "name": "stdout",
     "output_type": "stream",
     "text": [
      "+------------------+---------------+--------------------+----------------+-----------------+---------+---------+------------------+--------------------+----+\n",
      "|         artist_id|artist_latitude|     artist_location|artist_longitude|      artist_name| duration|num_songs|           song_id|               title|year|\n",
      "+------------------+---------------+--------------------+----------------+-----------------+---------+---------+------------------+--------------------+----+\n",
      "|ARNF6401187FB57032|       40.79086|New York, NY [Man...|       -73.96644|Sophie B. Hawkins|  305.162|        1|SONWXQJ12A8C134D94|The Ballad Of Sle...|1994|\n",
      "|ARLTWXK1187FB5A3F8|       32.74863|      Fort Worth, TX|       -97.32925|      King Curtis|326.00771|        1|SODREIN12A58A7F2E5|A Whiter Shade Of...|   0|\n",
      "|ARPFHN61187FB575F6|       41.88415|         Chicago, IL|       -87.63241|      Lupe Fiasco|279.97995|        1|SOWQTQZ12A58A7B63E|Streets On Fire (...|   0|\n",
      "+------------------+---------------+--------------------+----------------+-----------------+---------+---------+------------------+--------------------+----+\n",
      "only showing top 3 rows\n",
      "\n"
     ]
    }
   ],
   "source": [
    "dfSongWithSchema.show(3)"
   ]
  },
  {
   "cell_type": "code",
   "execution_count": 46,
   "metadata": {
    "editable": true
   },
   "outputs": [],
   "source": [
    "song_fields = [\"song_id\", \"title\", \"artist_id\", \"year\", \"duration\"]"
   ]
  },
  {
   "cell_type": "code",
   "execution_count": 53,
   "metadata": {
    "editable": true
   },
   "outputs": [],
   "source": [
    "# songs_table = dfSongWithSchema.select(song_fields).dropDuplicates()\n",
    "songs_table = dfSongWithSchema.select(song_fields)\n",
    "# songs_table = df.select(song_fields).dropDuplicates().withColumn(\"song_id\", monotonically_increasing_id())"
   ]
  },
  {
   "cell_type": "code",
   "execution_count": 54,
   "metadata": {
    "editable": true
   },
   "outputs": [
    {
     "data": {
      "text/plain": [
       "12"
      ]
     },
     "execution_count": 54,
     "metadata": {},
     "output_type": "execute_result"
    }
   ],
   "source": [
    "songs_table.count()"
   ]
  },
  {
   "cell_type": "code",
   "execution_count": 28,
   "metadata": {
    "editable": true
   },
   "outputs": [],
   "source": [
    "# output path\n",
    "output_data = \"./output/\""
   ]
  },
  {
   "cell_type": "code",
   "execution_count": 59,
   "metadata": {
    "editable": true
   },
   "outputs": [],
   "source": [
    "# output data\n",
    "songs_table.write.partitionBy(\"year\", \"artist_id\").parquet(output_data_local + 'songs/')"
   ]
  },
  {
   "cell_type": "code",
   "execution_count": 62,
   "metadata": {
    "editable": true
   },
   "outputs": [],
   "source": [
    "# artist table\n",
    "artists_fields = [\"artist_id\", \"artist_name as name\", \"artist_location as location\", \"artist_latitude as latitude\", \"artist_longitude as longitude\"]\n",
    "artists_table = dfSongWithSchema.selectExpr(artists_fields)"
   ]
  },
  {
   "cell_type": "code",
   "execution_count": 63,
   "metadata": {
    "editable": true
   },
   "outputs": [
    {
     "name": "stdout",
     "output_type": "stream",
     "text": [
      "+------------------+-----------------+--------------------+--------+---------+\n",
      "|         artist_id|             name|            location|latitude|longitude|\n",
      "+------------------+-----------------+--------------------+--------+---------+\n",
      "|ARNF6401187FB57032|Sophie B. Hawkins|New York, NY [Man...|40.79086|-73.96644|\n",
      "|ARLTWXK1187FB5A3F8|      King Curtis|      Fort Worth, TX|32.74863|-97.32925|\n",
      "|ARPFHN61187FB575F6|      Lupe Fiasco|         Chicago, IL|41.88415|-87.63241|\n",
      "+------------------+-----------------+--------------------+--------+---------+\n",
      "only showing top 3 rows\n",
      "\n"
     ]
    }
   ],
   "source": [
    "artists_table.show(3)"
   ]
  },
  {
   "cell_type": "code",
   "execution_count": 65,
   "metadata": {
    "editable": true
   },
   "outputs": [],
   "source": [
    "artists_table.write.parquet(output_data_local + 'artists/')"
   ]
  },
  {
   "cell_type": "markdown",
   "metadata": {
    "editable": true
   },
   "source": [
    "### Test log data"
   ]
  },
  {
   "cell_type": "code",
   "execution_count": 46,
   "metadata": {
    "editable": true
   },
   "outputs": [],
   "source": [
    "log_path_local = \"./data/log-data/*.json\""
   ]
  },
  {
   "cell_type": "code",
   "execution_count": 54,
   "metadata": {
    "editable": true
   },
   "outputs": [
    {
     "name": "stdout",
     "output_type": "stream",
     "text": [
      "root\n",
      " |-- artist: string (nullable = true)\n",
      " |-- auth: string (nullable = true)\n",
      " |-- firstName: string (nullable = true)\n",
      " |-- gender: string (nullable = true)\n",
      " |-- itemInSession: long (nullable = true)\n",
      " |-- lastName: string (nullable = true)\n",
      " |-- length: double (nullable = true)\n",
      " |-- level: string (nullable = true)\n",
      " |-- location: string (nullable = true)\n",
      " |-- method: string (nullable = true)\n",
      " |-- page: string (nullable = true)\n",
      " |-- registration: double (nullable = true)\n",
      " |-- sessionId: long (nullable = true)\n",
      " |-- song: string (nullable = true)\n",
      " |-- status: long (nullable = true)\n",
      " |-- ts: long (nullable = true)\n",
      " |-- userAgent: string (nullable = true)\n",
      " |-- userId: string (nullable = true)\n",
      "\n"
     ]
    }
   ],
   "source": [
    "df = spark.read.json(log_path_local)\n",
    "df.printSchema()"
   ]
  },
  {
   "cell_type": "code",
   "execution_count": 94,
   "metadata": {
    "editable": true
   },
   "outputs": [],
   "source": [
    "dfUser = df.withColumn(\"registration_cast\", df[\"registration\"].cast(DecimalType()))"
   ]
  },
  {
   "cell_type": "code",
   "execution_count": 95,
   "metadata": {
    "editable": true
   },
   "outputs": [
    {
     "name": "stdout",
     "output_type": "stream",
     "text": [
      "+--------------------+---------+---------+------+--------+---------+-----+--------------------+------+--------+-----------------+---------+--------------------+------+--------------------+--------------------+------+-----------------+\n",
      "|              artist|     auth|firstName|gender|lastName|   length|level|            location|method|    page|     registration|sessionId|                song|status|                  ts|           userAgent|userId|registration_cast|\n",
      "+--------------------+---------+---------+------+--------+---------+-----+--------------------+------+--------+-----------------+---------+--------------------+------+--------------------+--------------------+------+-----------------+\n",
      "|N.E.R.D. FEATURIN...|Logged In|   Jayden|     M|     Fox| 288.9922| free|New Orleans-Metai...|   PUT|NextSong|1.541033612796E12|      184|Am I High (Feat. ...|   200|50806-03-18 10:19...|\"Mozilla/5.0 (Win...|   101|             null|\n",
      "|                null|Logged In|  Stefany|     F|   White|     null| free|         Lubbock, TX|   GET|    Home|1.540708070796E12|       82|                null|   200|50806-03-21 05:33...|\"Mozilla/5.0 (Mac...|    83|             null|\n",
      "| Death Cab for Cutie|Logged In|  Stefany|     F|   White|216.42404| free|         Lubbock, TX|   PUT|NextSong|1.540708070796E12|       82|A Lack Of Color (...|   200|50806-03-21 23:36...|\"Mozilla/5.0 (Mac...|    83|             null|\n",
      "|    Tracy Gang Pussy|Logged In|  Stefany|     F|   White|221.33506| free|         Lubbock, TX|   PUT|NextSong|1.540708070796E12|       82|       I Have A Wish|   200|50806-03-24 11:36...|\"Mozilla/5.0 (Mac...|    83|             null|\n",
      "|             Skillet|Logged In|    Kevin|     M|Arellano|178.02404| free|Harrisburg-Carlis...|   PUT|NextSong|1.540006905796E12|      153|Monster (Album Ve...|   200|50806-05-11 01:33...|\"Mozilla/5.0 (Mac...|    66|             null|\n",
      "|   Dance Gavin Dance|Logged In|   Marina|     F|  Sutton|218.46159| free|         Salinas, CA|   PUT|NextSong|1.541064343796E12|       47|Uneasy Hearts Wei...|   200|50806-05-27 03:23...|\"Mozilla/5.0 (Mac...|    48|             null|\n",
      "|                null|Logged In|    Aiden|     M|    Hess|     null| free|La Crosse-Onalask...|   GET|    Home|1.540829025796E12|      170|                null|   200|50806-06-14 16:56...|\"Mozilla/5.0 (Mac...|    86|             null|\n",
      "|               Dalto|Logged In|    Aiden|     M|    Hess|190.40608| free|La Crosse-Onalask...|   PUT|NextSong|1.540829025796E12|      170|      Falta Te Dizer|   200|50806-06-16 00:19...|\"Mozilla/5.0 (Mac...|    86|             null|\n",
      "|          Kanye West|Logged In| Makinley|     F|   Jones|278.88281| free|Chicago-Napervill...|   PUT|NextSong|1.541091973796E12|      118|     Family Business|   200|50806-08-25 05:36...|\"Mozilla/5.0 (Win...|    17|             null|\n",
      "|Jason Mraz & Colb...|Logged In|    Kevin|     M|Arellano| 189.6224| free|Harrisburg-Carlis...|   PUT|NextSong|1.540006905796E12|      187|Lucky (Album Vers...|   200|50806-09-19 18:56...|\"Mozilla/5.0 (Mac...|    66|             null|\n",
      "|        Liz Callaway|Logged In|     Lily|     F|    Koch|175.43791| paid|Chicago-Napervill...|   PUT|NextSong|1.541048010796E12|      172|Journey To The Pa...|   200|50807-01-28 22:43...|\"Mozilla/5.0 (X11...|    15|             null|\n",
      "|    The Decemberists|Logged In|     Lily|     F|    Koch|242.59873| paid|Chicago-Napervill...|   PUT|NextSong|1.541048010796E12|      172|Everything I Try ...|   200|50807-01-30 23:19...|\"Mozilla/5.0 (X11...|    15|             null|\n",
      "|                null|Logged In|  Kynnedi|     F| Sanchez|     null| free|    Cedar Rapids, IA|   GET|    Home|1.541079034796E12|       88|                null|   200|50807-01-31 19:53...|\"Mozilla/5.0 (Mac...|    89|             null|\n",
      "|  Christina Aguilera|Logged In|     Lily|     F|    Koch|254.48444| paid|Chicago-Napervill...|   PUT|NextSong|1.541048010796E12|      172|          Impossible|   200|50807-02-02 18:33...|\"Mozilla/5.0 (X11...|    15|             null|\n",
      "|         OneRepublic|Logged In|     Lily|     F|    Koch|224.67873| paid|Chicago-Napervill...|   PUT|NextSong|1.541048010796E12|      172|             Secrets|   200|50807-02-05 17:06...|\"Mozilla/5.0 (X11...|    15|             null|\n",
      "|         Cat Stevens|Logged In|  Kynnedi|     F| Sanchez|  200.202| free|    Cedar Rapids, IA|   PUT|NextSong|1.541079034796E12|       88|          Wild World|   200|50807-02-06 11:09...|\"Mozilla/5.0 (Mac...|    89|             null|\n",
      "|        Brett Dennen|Logged In|     Lily|     F|    Koch|179.66975| paid|Chicago-Napervill...|   PUT|NextSong|1.541048010796E12|      172| World Keeps Turning|   200|50807-02-08 07:19...|\"Mozilla/5.0 (X11...|    15|             null|\n",
      "|            Godsmack|Logged In|     Lily|     F|    Koch|208.24771| paid|Chicago-Napervill...|   PUT|NextSong|1.541048010796E12|      172|               Greed|   200|50807-02-10 09:03...|\"Mozilla/5.0 (X11...|    15|             null|\n",
      "|                Anis|Logged In|     Lily|     F|    Koch|246.59546| paid|Chicago-Napervill...|   PUT|NextSong|1.541048010796E12|      172|     Swing Javanaise|   200|50807-02-12 18:49...|\"Mozilla/5.0 (X11...|    15|             null|\n",
      "|       Tiziano Ferro|Logged In|     Lily|     F|    Koch|251.42812| paid|Chicago-Napervill...|   PUT|NextSong|1.541048010796E12|      172|Ed Ero Contentissimo|   200|50807-02-15 15:09...|\"Mozilla/5.0 (X11...|    15|             null|\n",
      "+--------------------+---------+---------+------+--------+---------+-----+--------------------+------+--------+-----------------+---------+--------------------+------+--------------------+--------------------+------+-----------------+\n",
      "only showing top 20 rows\n",
      "\n"
     ]
    }
   ],
   "source": [
    "dfUser.where(col(\"registration_cast\").isNull()).show()"
   ]
  },
  {
   "cell_type": "code",
   "execution_count": 96,
   "metadata": {
    "editable": true
   },
   "outputs": [],
   "source": [
    "logSchema = StructType([\n",
    "        StructField(\"artist\", StringType()),\n",
    "        StructField(\"auth\", StringType()),\n",
    "        StructField(\"firstName\", StringType()),\n",
    "        StructField(\"gender\", StringType()),\n",
    "        StructField(\"lastName\", StringType()),\n",
    "        StructField(\"length\", DoubleType()),\n",
    "        StructField(\"level\", StringType()),\n",
    "        StructField(\"location\", StringType()),\n",
    "        StructField(\"method\", StringType()),\n",
    "        StructField(\"page\", StringType()),\n",
    "        StructField(\"registration\", StringType()), # should be DecimalType\n",
    "        StructField(\"sessionId\", IntegerType()),\n",
    "        StructField(\"song\", StringType()),\n",
    "        StructField(\"status\", IntegerType()),\n",
    "        StructField(\"ts\", TimestampType()),\n",
    "        StructField(\"userAgent\", StringType()),\n",
    "        StructField(\"userId\", StringType()) # should be Integer\n",
    "    ])\n",
    "df = spark.read.json(log_path_local, schema=logSchema)"
   ]
  },
  {
   "cell_type": "code",
   "execution_count": 102,
   "metadata": {
    "editable": true
   },
   "outputs": [
    {
     "name": "stdout",
     "output_type": "stream",
     "text": [
      "+--------------------+---------+---------+------+-------------+--------+---------+-----+--------------------+------+--------+-----------------+---------+--------------------+------+-------------+--------------------+------+\n",
      "|              artist|     auth|firstName|gender|itemInSession|lastName|   length|level|            location|method|    page|     registration|sessionId|                song|status|           ts|           userAgent|userId|\n",
      "+--------------------+---------+---------+------+-------------+--------+---------+-----+--------------------+------+--------+-----------------+---------+--------------------+------+-------------+--------------------+------+\n",
      "|N.E.R.D. FEATURIN...|Logged In|   Jayden|     M|            0|     Fox| 288.9922| free|New Orleans-Metai...|   PUT|NextSong|1.541033612796E12|      184|Am I High (Feat. ...|   200|1541121934796|\"Mozilla/5.0 (Win...|   101|\n",
      "|                null|Logged In|  Stefany|     F|            0|   White|     null| free|         Lubbock, TX|   GET|    Home|1.540708070796E12|       82|                null|   200|1541122176796|\"Mozilla/5.0 (Mac...|    83|\n",
      "| Death Cab for Cutie|Logged In|  Stefany|     F|            1|   White|216.42404| free|         Lubbock, TX|   PUT|NextSong|1.540708070796E12|       82|A Lack Of Color (...|   200|1541122241796|\"Mozilla/5.0 (Mac...|    83|\n",
      "+--------------------+---------+---------+------+-------------+--------+---------+-----+--------------------+------+--------+-----------------+---------+--------------------+------+-------------+--------------------+------+\n",
      "only showing top 3 rows\n",
      "\n"
     ]
    }
   ],
   "source": [
    "# df.printSchema()\n",
    "df = spark.read.json(log_path_local)\n",
    "df.show(3)"
   ]
  },
  {
   "cell_type": "code",
   "execution_count": 97,
   "metadata": {
    "editable": true
   },
   "outputs": [],
   "source": [
    "df = df.withColumn(\"userId\", df[\"userId\"].cast(IntegerType()))"
   ]
  },
  {
   "cell_type": "code",
   "execution_count": 99,
   "metadata": {
    "editable": true
   },
   "outputs": [
    {
     "name": "stdout",
     "output_type": "stream",
     "text": [
      "root\n",
      " |-- artist: string (nullable = true)\n",
      " |-- auth: string (nullable = true)\n",
      " |-- firstName: string (nullable = true)\n",
      " |-- gender: string (nullable = true)\n",
      " |-- lastName: string (nullable = true)\n",
      " |-- length: double (nullable = true)\n",
      " |-- level: string (nullable = true)\n",
      " |-- location: string (nullable = true)\n",
      " |-- method: string (nullable = true)\n",
      " |-- page: string (nullable = true)\n",
      " |-- registration: string (nullable = true)\n",
      " |-- sessionId: integer (nullable = true)\n",
      " |-- song: string (nullable = true)\n",
      " |-- status: integer (nullable = true)\n",
      " |-- ts: timestamp (nullable = true)\n",
      " |-- userAgent: string (nullable = true)\n",
      " |-- userId: integer (nullable = true)\n",
      "\n",
      "+--------------------+---------+---------+------+--------+---------+-----+--------------------+------+--------+-----------------+---------+--------------------+------+--------------------+--------------------+------+\n",
      "|              artist|     auth|firstName|gender|lastName|   length|level|            location|method|    page|     registration|sessionId|                song|status|                  ts|           userAgent|userId|\n",
      "+--------------------+---------+---------+------+--------+---------+-----+--------------------+------+--------+-----------------+---------+--------------------+------+--------------------+--------------------+------+\n",
      "|N.E.R.D. FEATURIN...|Logged In|   Jayden|     M|     Fox| 288.9922| free|New Orleans-Metai...|   PUT|NextSong|1.541033612796E12|      184|Am I High (Feat. ...|   200|50806-03-18 10:19...|\"Mozilla/5.0 (Win...|   101|\n",
      "|                null|Logged In|  Stefany|     F|   White|     null| free|         Lubbock, TX|   GET|    Home|1.540708070796E12|       82|                null|   200|50806-03-21 05:33...|\"Mozilla/5.0 (Mac...|    83|\n",
      "| Death Cab for Cutie|Logged In|  Stefany|     F|   White|216.42404| free|         Lubbock, TX|   PUT|NextSong|1.540708070796E12|       82|A Lack Of Color (...|   200|50806-03-21 23:36...|\"Mozilla/5.0 (Mac...|    83|\n",
      "+--------------------+---------+---------+------+--------+---------+-----+--------------------+------+--------+-----------------+---------+--------------------+------+--------------------+--------------------+------+\n",
      "only showing top 3 rows\n",
      "\n"
     ]
    }
   ],
   "source": [
    "df.printSchema()\n",
    "df.show(3)"
   ]
  },
  {
   "cell_type": "code",
   "execution_count": 120,
   "metadata": {
    "editable": true
   },
   "outputs": [
    {
     "name": "stdout",
     "output_type": "stream",
     "text": [
      "+--------------------+---------+---------+------+-------------+--------+---------+-----+--------------------+------+--------+-----------------+---------+--------------------+------+-------------+--------------------+------+\n",
      "|              artist|     auth|firstName|gender|itemInSession|lastName|   length|level|            location|method|    page|     registration|sessionId|                song|status|           ts|           userAgent|userId|\n",
      "+--------------------+---------+---------+------+-------------+--------+---------+-----+--------------------+------+--------+-----------------+---------+--------------------+------+-------------+--------------------+------+\n",
      "|N.E.R.D. FEATURIN...|Logged In|   Jayden|     M|            0|     Fox| 288.9922| free|New Orleans-Metai...|   PUT|NextSong|1.541033612796E12|      184|Am I High (Feat. ...|   200|1541121934796|\"Mozilla/5.0 (Win...|   101|\n",
      "| Death Cab for Cutie|Logged In|  Stefany|     F|            1|   White|216.42404| free|         Lubbock, TX|   PUT|NextSong|1.540708070796E12|       82|A Lack Of Color (...|   200|1541122241796|\"Mozilla/5.0 (Mac...|    83|\n",
      "|    Tracy Gang Pussy|Logged In|  Stefany|     F|            2|   White|221.33506| free|         Lubbock, TX|   PUT|NextSong|1.540708070796E12|       82|       I Have A Wish|   200|1541122457796|\"Mozilla/5.0 (Mac...|    83|\n",
      "+--------------------+---------+---------+------+-------------+--------+---------+-----+--------------------+------+--------+-----------------+---------+--------------------+------+-------------+--------------------+------+\n",
      "only showing top 3 rows\n",
      "\n"
     ]
    }
   ],
   "source": [
    "dfNextSong = df.filter(df.page == 'NextSong')\n",
    "dfNextSong.show(3)"
   ]
  },
  {
   "cell_type": "code",
   "execution_count": 121,
   "metadata": {
    "editable": true
   },
   "outputs": [],
   "source": [
    "dfNextSong = dfNextSong.withColumn(\"userId\", dfNextSong[\"userId\"].cast(IntegerType()))"
   ]
  },
  {
   "cell_type": "code",
   "execution_count": 114,
   "metadata": {
    "editable": true
   },
   "outputs": [
    {
     "data": {
      "text/plain": [
       "266"
      ]
     },
     "execution_count": 114,
     "metadata": {},
     "output_type": "execute_result"
    }
   ],
   "source": [
    "users_fields = [\"userId as user_id\", \"firstName as first_name\", \"lastName as last_name\", \"gender\", \"level\"]\n",
    "users_table = dfNextSong.selectExpr(users_fields)\n",
    "users_table.count()"
   ]
  },
  {
   "cell_type": "code",
   "execution_count": 109,
   "metadata": {
    "editable": true
   },
   "outputs": [
    {
     "name": "stdout",
     "output_type": "stream",
     "text": [
      "+-------+----------+---------+------+-----+\n",
      "|user_id|first_name|last_name|gender|level|\n",
      "+-------+----------+---------+------+-----+\n",
      "|    101|    Jayden|      Fox|     M| free|\n",
      "|     83|   Stefany|    White|     F| free|\n",
      "|     83|   Stefany|    White|     F| free|\n",
      "+-------+----------+---------+------+-----+\n",
      "only showing top 3 rows\n",
      "\n",
      "+-------+----------+---------+------+-----+\n",
      "|user_id|first_name|last_name|gender|level|\n",
      "+-------+----------+---------+------+-----+\n",
      "+-------+----------+---------+------+-----+\n",
      "\n"
     ]
    }
   ],
   "source": [
    "users_table.show(3)\n",
    "users_table.where(col(\"user_id\").isNull()).show()"
   ]
  },
  {
   "cell_type": "code",
   "execution_count": 110,
   "metadata": {
    "editable": true
   },
   "outputs": [
    {
     "data": {
      "text/plain": [
       "DataFrame[user_id: int, first_name: string, last_name: string, gender: string, level: string]"
      ]
     },
     "execution_count": 110,
     "metadata": {},
     "output_type": "execute_result"
    }
   ],
   "source": [
    "users_table.na.drop()"
   ]
  },
  {
   "cell_type": "code",
   "execution_count": 112,
   "metadata": {
    "editable": true
   },
   "outputs": [
    {
     "name": "stdout",
     "output_type": "stream",
     "text": [
      "+-------+----------+---------+------+-----+\n",
      "|user_id|first_name|last_name|gender|level|\n",
      "+-------+----------+---------+------+-----+\n",
      "|    101|    Jayden|      Fox|     M| free|\n",
      "|     83|   Stefany|    White|     F| free|\n",
      "|     83|   Stefany|    White|     F| free|\n",
      "+-------+----------+---------+------+-----+\n",
      "only showing top 3 rows\n",
      "\n",
      "+-------+----------+---------+------+-----+\n",
      "|user_id|first_name|last_name|gender|level|\n",
      "+-------+----------+---------+------+-----+\n",
      "+-------+----------+---------+------+-----+\n",
      "\n"
     ]
    },
    {
     "data": {
      "text/plain": [
       "266"
      ]
     },
     "execution_count": 112,
     "metadata": {},
     "output_type": "execute_result"
    }
   ],
   "source": [
    "users_table.show(3)\n",
    "users_table.where(col(\"user_id\").isNull()).show()\n",
    "users_table.count()"
   ]
  },
  {
   "cell_type": "code",
   "execution_count": 33,
   "metadata": {
    "editable": true
   },
   "outputs": [],
   "source": [
    "users_table.write.parquet(output_data + \"users/\")"
   ]
  },
  {
   "cell_type": "code",
   "execution_count": 122,
   "metadata": {
    "editable": true
   },
   "outputs": [],
   "source": [
    "# convert date time\n",
    "from datetime import datetime\n",
    "\n",
    "get_timestamp = udf(lambda x: datetime.fromtimestamp(x/1000.0), TimestampType())\n",
    "dfNextSong = dfNextSong.withColumn(\"timestamp\", get_timestamp('ts'))"
   ]
  },
  {
   "cell_type": "code",
   "execution_count": 123,
   "metadata": {
    "editable": true
   },
   "outputs": [
    {
     "name": "stdout",
     "output_type": "stream",
     "text": [
      "+--------------------+---------+---------+------+-------------+--------+---------+-----+--------------------+------+--------+-----------------+---------+--------------------+------+-------------+--------------------+------+--------------------+\n",
      "|              artist|     auth|firstName|gender|itemInSession|lastName|   length|level|            location|method|    page|     registration|sessionId|                song|status|           ts|           userAgent|userId|           timestamp|\n",
      "+--------------------+---------+---------+------+-------------+--------+---------+-----+--------------------+------+--------+-----------------+---------+--------------------+------+-------------+--------------------+------+--------------------+\n",
      "|N.E.R.D. FEATURIN...|Logged In|   Jayden|     M|            0|     Fox| 288.9922| free|New Orleans-Metai...|   PUT|NextSong|1.541033612796E12|      184|Am I High (Feat. ...|   200|1541121934796|\"Mozilla/5.0 (Win...|   101|2018-11-02 01:25:...|\n",
      "| Death Cab for Cutie|Logged In|  Stefany|     F|            1|   White|216.42404| free|         Lubbock, TX|   PUT|NextSong|1.540708070796E12|       82|A Lack Of Color (...|   200|1541122241796|\"Mozilla/5.0 (Mac...|    83|2018-11-02 01:30:...|\n",
      "|    Tracy Gang Pussy|Logged In|  Stefany|     F|            2|   White|221.33506| free|         Lubbock, TX|   PUT|NextSong|1.540708070796E12|       82|       I Have A Wish|   200|1541122457796|\"Mozilla/5.0 (Mac...|    83|2018-11-02 01:34:...|\n",
      "+--------------------+---------+---------+------+-------------+--------+---------+-----+--------------------+------+--------+-----------------+---------+--------------------+------+-------------+--------------------+------+--------------------+\n",
      "only showing top 3 rows\n",
      "\n"
     ]
    }
   ],
   "source": [
    "dfNextSong.show(3)"
   ]
  },
  {
   "cell_type": "code",
   "execution_count": 132,
   "metadata": {
    "editable": true
   },
   "outputs": [],
   "source": [
    "# create datetime column from original timestamp column\n",
    "get_datetime = udf(lambda x: datetime.fromtimestamp(x/1000.0), DateType())\n",
    "dfNextSong = dfNextSong.withColumn(\"start_time\", get_datetime('ts'))"
   ]
  },
  {
   "cell_type": "code",
   "execution_count": 133,
   "metadata": {
    "editable": true
   },
   "outputs": [
    {
     "name": "stdout",
     "output_type": "stream",
     "text": [
      "+--------------------+---------+---------+------+-------------+--------+---------+-----+--------------------+------+--------+-----------------+---------+--------------------+------+-------------+--------------------+------+--------------------+----------+----------+\n",
      "|              artist|     auth|firstName|gender|itemInSession|lastName|   length|level|            location|method|    page|     registration|sessionId|                song|status|           ts|           userAgent|userId|           timestamp|  datetime|start_time|\n",
      "+--------------------+---------+---------+------+-------------+--------+---------+-----+--------------------+------+--------+-----------------+---------+--------------------+------+-------------+--------------------+------+--------------------+----------+----------+\n",
      "|N.E.R.D. FEATURIN...|Logged In|   Jayden|     M|            0|     Fox| 288.9922| free|New Orleans-Metai...|   PUT|NextSong|1.541033612796E12|      184|Am I High (Feat. ...|   200|1541121934796|\"Mozilla/5.0 (Win...|   101|2018-11-02 01:25:...|2018-11-02|2018-11-02|\n",
      "| Death Cab for Cutie|Logged In|  Stefany|     F|            1|   White|216.42404| free|         Lubbock, TX|   PUT|NextSong|1.540708070796E12|       82|A Lack Of Color (...|   200|1541122241796|\"Mozilla/5.0 (Mac...|    83|2018-11-02 01:30:...|2018-11-02|2018-11-02|\n",
      "|    Tracy Gang Pussy|Logged In|  Stefany|     F|            2|   White|221.33506| free|         Lubbock, TX|   PUT|NextSong|1.540708070796E12|       82|       I Have A Wish|   200|1541122457796|\"Mozilla/5.0 (Mac...|    83|2018-11-02 01:34:...|2018-11-02|2018-11-02|\n",
      "+--------------------+---------+---------+------+-------------+--------+---------+-----+--------------------+------+--------+-----------------+---------+--------------------+------+-------------+--------------------+------+--------------------+----------+----------+\n",
      "only showing top 3 rows\n",
      "\n"
     ]
    }
   ],
   "source": [
    "dfNextSong.show(3)"
   ]
  },
  {
   "cell_type": "code",
   "execution_count": 136,
   "metadata": {
    "editable": true
   },
   "outputs": [],
   "source": [
    "time_table = dfNextSong.select(\"start_time\").dropDuplicates() \\\n",
    "        .withColumn(\"hour\", hour(col(\"start_time\"))).withColumn(\"day\", dayofmonth(col(\"start_time\"))) \\\n",
    "        .withColumn(\"week\", weekofyear(col(\"start_time\"))).withColumn(\"month\", month(col(\"start_time\"))) \\\n",
    "        .withColumn(\"year\", year(col(\"start_time\"))).withColumn(\"weekday\", date_format(col(\"start_time\"), 'E'))"
   ]
  },
  {
   "cell_type": "code",
   "execution_count": 137,
   "metadata": {
    "editable": true
   },
   "outputs": [
    {
     "name": "stdout",
     "output_type": "stream",
     "text": [
      "+----------+----+---+----+-----+----+-------+\n",
      "|start_time|hour|day|week|month|year|weekday|\n",
      "+----------+----+---+----+-----+----+-------+\n",
      "|2018-11-02|   0|  2|  44|   11|2018|    Fri|\n",
      "|2018-11-01|   0|  1|  44|   11|2018|    Thu|\n",
      "|2018-11-03|   0|  3|  44|   11|2018|    Sat|\n",
      "+----------+----+---+----+-----+----+-------+\n",
      "\n"
     ]
    }
   ],
   "source": [
    "time_table.show(5)"
   ]
  },
  {
   "cell_type": "code",
   "execution_count": 138,
   "metadata": {
    "editable": true
   },
   "outputs": [],
   "source": [
    "time_table.write.partitionBy(\"year\", \"month\").parquet(output_data + 'time_local/')"
   ]
  },
  {
   "cell_type": "code",
   "execution_count": 141,
   "metadata": {
    "editable": true
   },
   "outputs": [],
   "source": [
    "# read in song data to use for songplays table\n",
    "song_df = spark.read.parquet(output_data + 'songs/*/*/*')"
   ]
  },
  {
   "cell_type": "code",
   "execution_count": 142,
   "metadata": {
    "editable": true
   },
   "outputs": [
    {
     "name": "stdout",
     "output_type": "stream",
     "text": [
      "+------------------+--------------------+---------+\n",
      "|           song_id|               title| duration|\n",
      "+------------------+--------------------+---------+\n",
      "|SODREIN12A58A7F2E5|A Whiter Shade Of...|326.00771|\n",
      "|SOWQTQZ12A58A7B63E|Streets On Fire (...|279.97995|\n",
      "|SONWXQJ12A8C134D94|The Ballad Of Sle...|  305.162|\n",
      "+------------------+--------------------+---------+\n",
      "only showing top 3 rows\n",
      "\n"
     ]
    }
   ],
   "source": [
    "song_df.show(3)"
   ]
  },
  {
   "cell_type": "code",
   "execution_count": 143,
   "metadata": {
    "editable": true
   },
   "outputs": [],
   "source": [
    "artists_df = spark.read.parquet(output_data + 'artists/*')"
   ]
  },
  {
   "cell_type": "code",
   "execution_count": 144,
   "metadata": {
    "editable": true
   },
   "outputs": [
    {
     "name": "stdout",
     "output_type": "stream",
     "text": [
      "+------------------+-----------------+--------------------+--------+---------+\n",
      "|         artist_id|             name|            location|latitude|longitude|\n",
      "+------------------+-----------------+--------------------+--------+---------+\n",
      "|ARNF6401187FB57032|Sophie B. Hawkins|New York, NY [Man...|40.79086|-73.96644|\n",
      "|ARLTWXK1187FB5A3F8|      King Curtis|      Fort Worth, TX|32.74863|-97.32925|\n",
      "|ARPFHN61187FB575F6|      Lupe Fiasco|         Chicago, IL|41.88415|-87.63241|\n",
      "+------------------+-----------------+--------------------+--------+---------+\n",
      "only showing top 3 rows\n",
      "\n"
     ]
    }
   ],
   "source": [
    "artists_df.show(3)"
   ]
  },
  {
   "cell_type": "code",
   "execution_count": 146,
   "metadata": {
    "editable": true
   },
   "outputs": [
    {
     "name": "stdout",
     "output_type": "stream",
     "text": [
      "+------+----+---------+------+-------------+--------+------+-----+--------+------+----+------------+---------+----+------+---+---------+------+---------+--------+----------+-------+-----+--------+\n",
      "|artist|auth|firstName|gender|itemInSession|lastName|length|level|location|method|page|registration|sessionId|song|status| ts|userAgent|userId|timestamp|datetime|start_time|song_id|title|duration|\n",
      "+------+----+---------+------+-------------+--------+------+-----+--------+------+----+------------+---------+----+------+---+---------+------+---------+--------+----------+-------+-----+--------+\n",
      "+------+----+---------+------+-------------+--------+------+-----+--------+------+----+------------+---------+----+------+---+---------+------+---------+--------+----------+-------+-----+--------+\n",
      "\n"
     ]
    }
   ],
   "source": [
    "songs_logs = dfNextSong.join(song_df, (dfNextSong.song == song_df.title))\n",
    "songs_logs.show(2)"
   ]
  },
  {
   "cell_type": "code",
   "execution_count": 158,
   "metadata": {
    "editable": true
   },
   "outputs": [],
   "source": [
    "artists_songs_logs = songs_logs.join(artists_df, (songs_logs.artist == artists_df.name)).drop(artists_df.location)"
   ]
  },
  {
   "cell_type": "code",
   "execution_count": 159,
   "metadata": {
    "editable": true
   },
   "outputs": [
    {
     "name": "stdout",
     "output_type": "stream",
     "text": [
      "+------+----+---------+------+-------------+--------+------+-----+--------+------+----+------------+---------+----+------+---+---------+------+---------+--------+----------+-------+-----+--------+---------+----+--------+---------+\n",
      "|artist|auth|firstName|gender|itemInSession|lastName|length|level|location|method|page|registration|sessionId|song|status| ts|userAgent|userId|timestamp|datetime|start_time|song_id|title|duration|artist_id|name|latitude|longitude|\n",
      "+------+----+---------+------+-------------+--------+------+-----+--------+------+----+------------+---------+----+------+---+---------+------+---------+--------+----------+-------+-----+--------+---------+----+--------+---------+\n",
      "+------+----+---------+------+-------------+--------+------+-----+--------+------+----+------------+---------+----+------+---+---------+------+---------+--------+----------+-------+-----+--------+---------+----+--------+---------+\n",
      "\n"
     ]
    }
   ],
   "source": [
    "artists_songs_logs.show(2)"
   ]
  },
  {
   "cell_type": "code",
   "execution_count": 176,
   "metadata": {
    "editable": true
   },
   "outputs": [],
   "source": [
    "songplays = artists_songs_logs.join(time_table, (artists_songs_logs.start_time == time_table.start_time), 'left').drop(artists_songs_logs.start_time)"
   ]
  },
  {
   "cell_type": "code",
   "execution_count": 161,
   "metadata": {
    "editable": true
   },
   "outputs": [
    {
     "name": "stdout",
     "output_type": "stream",
     "text": [
      "+------+----+---------+------+-------------+--------+------+-----+--------+------+----+------------+---------+----+------+---+---------+------+---------+--------+-------+-----+--------+---------+----+--------+---------+----------+----+---+----+-----+----+-------+\n",
      "|artist|auth|firstName|gender|itemInSession|lastName|length|level|location|method|page|registration|sessionId|song|status| ts|userAgent|userId|timestamp|datetime|song_id|title|duration|artist_id|name|latitude|longitude|start_time|hour|day|week|month|year|weekday|\n",
      "+------+----+---------+------+-------------+--------+------+-----+--------+------+----+------------+---------+----+------+---+---------+------+---------+--------+-------+-----+--------+---------+----+--------+---------+----------+----+---+----+-----+----+-------+\n",
      "+------+----+---------+------+-------------+--------+------+-----+--------+------+----+------------+---------+----+------+---+---------+------+---------+--------+-------+-----+--------+---------+----+--------+---------+----------+----+---+----+-----+----+-------+\n",
      "\n"
     ]
    }
   ],
   "source": [
    "songplays.show(2)"
   ]
  },
  {
   "cell_type": "code",
   "execution_count": 181,
   "metadata": {
    "editable": true
   },
   "outputs": [],
   "source": [
    "songplays = songplays.withColumn(\"songplay_id\", F.monotonically_increasing_id())"
   ]
  },
  {
   "cell_type": "code",
   "execution_count": 186,
   "metadata": {
    "editable": true
   },
   "outputs": [],
   "source": [
    "songplays_table = songplays.select(\n",
    "        col(\"songplay_id\"),\n",
    "        col('start_time'),\n",
    "        col('userId').alias('user_id'),\n",
    "        col('level'),\n",
    "        col('song_id'),\n",
    "        col('artist_id'),\n",
    "        col('sessionId'),\n",
    "        col('location'),\n",
    "        col('userAgent').alias('user_agent'),\n",
    "        col('year').alias('year'),\n",
    "        col('month').alias('month')\n",
    "    )"
   ]
  },
  {
   "cell_type": "code",
   "execution_count": 187,
   "metadata": {
    "editable": true
   },
   "outputs": [
    {
     "name": "stdout",
     "output_type": "stream",
     "text": [
      "+-----------+----------+-------+-----+-------+---------+---------+--------+----------+----+-----+\n",
      "|songplay_id|start_time|user_id|level|song_id|artist_id|sessionId|location|user_agent|year|month|\n",
      "+-----------+----------+-------+-----+-------+---------+---------+--------+----------+----+-----+\n",
      "+-----------+----------+-------+-----+-------+---------+---------+--------+----------+----+-----+\n",
      "\n"
     ]
    }
   ],
   "source": [
    "songplays_table.show(3)\n",
    "# songplay_id, start_time, user_id, level, song_id, artist_id, session_id, location, user_agent"
   ]
  },
  {
   "cell_type": "code",
   "execution_count": 188,
   "metadata": {
    "editable": true
   },
   "outputs": [],
   "source": [
    "songplays_table.write.partitionBy(\"year\", \"month\").parquet(output_data + 'songplays_local/')"
   ]
  },
  {
   "cell_type": "code",
   "execution_count": null,
   "metadata": {
    "editable": true
   },
   "outputs": [],
   "source": []
  },
  {
   "cell_type": "code",
   "execution_count": null,
   "metadata": {
    "editable": true
   },
   "outputs": [],
   "source": []
  },
  {
   "cell_type": "code",
   "execution_count": null,
   "metadata": {
    "editable": true
   },
   "outputs": [],
   "source": []
  },
  {
   "cell_type": "code",
   "execution_count": null,
   "metadata": {
    "editable": true
   },
   "outputs": [],
   "source": []
  },
  {
   "cell_type": "markdown",
   "metadata": {
    "editable": true
   },
   "source": [
    "# Test with S3 data"
   ]
  },
  {
   "cell_type": "code",
   "execution_count": 2,
   "metadata": {
    "editable": true
   },
   "outputs": [],
   "source": [
    "config = configparser.ConfigParser()\n",
    "config.read('dl.cfg')\n",
    "\n",
    "os.environ['AWS_ACCESS_KEY_ID']=config['KEYS']['AWS_ACCESS_KEY_ID']\n",
    "os.environ['AWS_SECRET_ACCESS_KEY']=config['KEYS']['AWS_SECRET_ACCESS_KEY']"
   ]
  },
  {
   "cell_type": "code",
   "execution_count": 3,
   "metadata": {
    "editable": true
   },
   "outputs": [],
   "source": [
    "spark = SparkSession.builder \\\n",
    "                    .config(\"spark.jars.packages\", \"org.apache.hadoop:hadoop-aws:2.7.0\") \\\n",
    "                    .config(\"spark.hadoop.fs.s3a.impl\",\"org.apache.hadoop.fs.s3a.S3AFileSystem\") \\\n",
    "                    .config(\"spark.hadoop.fs.s3a.awsAccessKeyId\", os.environ['AWS_ACCESS_KEY_ID']) \\\n",
    "                    .config(\"spark.hadoop.fs.s3a.awsSecretAccessKey\", os.environ['AWS_SECRET_ACCESS_KEY']) \\\n",
    "                    .getOrCreate()"
   ]
  },
  {
   "cell_type": "code",
   "execution_count": 4,
   "metadata": {
    "editable": true
   },
   "outputs": [],
   "source": [
    "song_data = \"s3a://udacity-dend/song_data/A/B/C/*.json\""
   ]
  },
  {
   "cell_type": "code",
   "execution_count": 5,
   "metadata": {
    "editable": true
   },
   "outputs": [],
   "source": [
    "# dfSong = spark.read.json(song_data)\n",
    "dfSong = spark.read.format(\"json\").load(song_data)"
   ]
  },
  {
   "cell_type": "code",
   "execution_count": 7,
   "metadata": {
    "editable": true
   },
   "outputs": [
    {
     "name": "stdout",
     "output_type": "stream",
     "text": [
      "root\n",
      " |-- artist_id: string (nullable = true)\n",
      " |-- artist_latitude: double (nullable = true)\n",
      " |-- artist_location: string (nullable = true)\n",
      " |-- artist_longitude: double (nullable = true)\n",
      " |-- artist_name: string (nullable = true)\n",
      " |-- duration: double (nullable = true)\n",
      " |-- num_songs: long (nullable = true)\n",
      " |-- song_id: string (nullable = true)\n",
      " |-- title: string (nullable = true)\n",
      " |-- year: long (nullable = true)\n",
      "\n",
      "+------------------+---------------+---------------+----------------+-------------+---------+---------+------------------+--------------------+----+\n",
      "|         artist_id|artist_latitude|artist_location|artist_longitude|  artist_name| duration|num_songs|           song_id|               title|year|\n",
      "+------------------+---------------+---------------+----------------+-------------+---------+---------+------------------+--------------------+----+\n",
      "|ARLTWXK1187FB5A3F8|       32.74863| Fort Worth, TX|       -97.32925|  King Curtis|326.00771|        1|SODREIN12A58A7F2E5|A Whiter Shade Of...|   0|\n",
      "|ARIOZCU1187FB3A3DC|           null|     Hamlet, NC|            null|JOHN COLTRANE|220.44689|        1|SOCEMJV12A6D4F7667|Giant Steps (Alte...|   0|\n",
      "|ARPFHN61187FB575F6|       41.88415|    Chicago, IL|       -87.63241|  Lupe Fiasco|279.97995|        1|SOWQTQZ12A58A7B63E|Streets On Fire (...|   0|\n",
      "+------------------+---------------+---------------+----------------+-------------+---------+---------+------------------+--------------------+----+\n",
      "only showing top 3 rows\n",
      "\n"
     ]
    },
    {
     "data": {
      "text/plain": [
       "23"
      ]
     },
     "execution_count": 7,
     "metadata": {},
     "output_type": "execute_result"
    }
   ],
   "source": [
    "dfSong.printSchema()\n",
    "dfSong.show(3)\n",
    "dfSong.count()"
   ]
  },
  {
   "cell_type": "code",
   "execution_count": null,
   "metadata": {
    "editable": true
   },
   "outputs": [],
   "source": []
  }
 ],
 "metadata": {
  "kernelspec": {
   "display_name": "Python 3",
   "language": "python",
   "name": "python3"
  },
  "language_info": {
   "codemirror_mode": {
    "name": "ipython",
    "version": 3
   },
   "file_extension": ".py",
   "mimetype": "text/x-python",
   "name": "python",
   "nbconvert_exporter": "python",
   "pygments_lexer": "ipython3",
   "version": "3.6.3"
  }
 },
 "nbformat": 4,
 "nbformat_minor": 4
}
